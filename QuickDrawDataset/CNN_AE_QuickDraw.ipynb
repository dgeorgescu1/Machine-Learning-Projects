{
 "cells": [
  {
   "cell_type": "markdown",
   "metadata": {},
   "source": [
    "# Convolutional NNs & Autoencoders\n",
    "---\n",
    "\n",
    "This project uses the `Quick Draw Dataset`, a collection of 50 million drawings across 345 categories, produced by players of a game Quick, Draw! `https://quickdraw.withgoogle.com/data`\n",
    "\n",
    "Bitmap dataset contains drawings converted from vector to 28x28 grayscale images\n",
    "\n",
    "Focus on subset of 10 classes of type 'body part'\n",
    "\n",
    "The class labels are:\n",
    "\n",
    "![listbodypart](./list_body_parts.png)"
   ]
  },
  {
   "cell_type": "markdown",
   "metadata": {},
   "source": [
    "Aim to train a Convolutional NN (CNN) to try and use model to distinguish the classes. Then use autoencoder to learn a latent space representation of the dataset"
   ]
  },
  {
   "cell_type": "markdown",
   "metadata": {},
   "source": [
    "## Preamble\n",
    "---"
   ]
  },
  {
   "cell_type": "code",
   "execution_count": 1,
   "metadata": {},
   "outputs": [],
   "source": [
    "# Imports\n",
    "import os\n",
    "import numpy as np\n",
    "import tensorflow as tf\n",
    "import matplotlib.pyplot as plt\n",
    "from sklearn.metrics import confusion_matrix\n",
    "import seaborn as sns\n",
    "import pandas as pd\n"
   ]
  },
  {
   "cell_type": "code",
   "execution_count": 2,
   "metadata": {},
   "outputs": [],
   "source": [
    "# Keras import(s)\n",
    "if float(tf.__version__[:3])>2.8:\n",
    "    from tensorflow.keras.utils import plot_model\n",
    "else:\n",
    "    from tensorflow.python.keras.utils.vis_utils import plot_model\n",
    "from tensorflow.python.keras.models import Model\n",
    "from tensorflow.python.keras.layers import Input, Dense, Flatten, Reshape, Conv2D, MaxPooling2D, AveragePooling2D, UpSampling2D\n",
    "from sklearn.metrics import confusion_matrix\n",
    "from sklearn.metrics import plot_confusion_matrix\n",
    "from tensorflow.keras import regularizers\n",
    "\n",
    "from tensorflow.python.keras.backend import set_image_data_format\n",
    "set_image_data_format('channels_last')  # Images are formatted as (N, N, 1), with colour-channels last"
   ]
  },
  {
   "cell_type": "markdown",
   "metadata": {},
   "source": [
    "Load preprocessed dataset from np data file, which has already been split into training and testing parts \n",
    "\n",
    "- Each image reshaped to (N, N, 1) dimension, i.e. only one color dimension\n",
    "- Images scaled to have intensities range [0, 1] as required for input to NN\n",
    "- Shuffled for both training and testing sets separately \n"
   ]
  },
  {
   "cell_type": "code",
   "execution_count": 3,
   "metadata": {},
   "outputs": [],
   "source": [
    "#Load quickdraw bodyparts dataset\n",
    "X_train, y_train, X_test, y_test = np.load('quickdraw_bodyparts.npy',allow_pickle=True) "
   ]
  },
  {
   "cell_type": "code",
   "execution_count": 4,
   "metadata": {},
   "outputs": [
    {
     "name": "stdout",
     "output_type": "stream",
     "text": [
      "Training: (160000, 28, 28, 1) (160000,)\n",
      "Testing: (40000, 28, 28, 1) (40000,)\n"
     ]
    }
   ],
   "source": [
    "print ('Training:', X_train.shape, y_train.shape)\n",
    "print('Testing:', X_test.shape, y_test.shape)"
   ]
  },
  {
   "cell_type": "code",
   "execution_count": 5,
   "metadata": {},
   "outputs": [],
   "source": [
    "#Image labels\n",
    "body_parts = ['arm', 'ear', 'eye', 'face','foot', 'hand', 'knee', 'leg', 'mouth','nose']"
   ]
  },
  {
   "cell_type": "code",
   "execution_count": 6,
   "metadata": {},
   "outputs": [
    {
     "name": "stdout",
     "output_type": "stream",
     "text": [
      "Number of training examples: 160000\n",
      "Number of testing  examples: 40000\n",
      "Number of target classes:    10.0\n",
      "Image shape:  (28, 28, 1)\n"
     ]
    }
   ],
   "source": [
    "# Each label of the dataset correspond to a class name\n",
    "class_names = body_parts\n",
    "\n",
    "nb_train   = X_train.shape[0]\n",
    "nb_test    = X_test.shape[0]\n",
    "nb_classes = y_train.max() + 1\n",
    "print(\"Number of training examples: {}\".format(nb_train))\n",
    "print(\"Number of testing  examples: {}\".format(nb_test))\n",
    "print(\"Number of target classes:    {}\".format(nb_classes))\n",
    "\n",
    "# Get image shape\n",
    "shape = X_train.shape[1:]\n",
    "print(\"Image shape:  {}\".format(shape))"
   ]
  },
  {
   "cell_type": "markdown",
   "metadata": {},
   "source": [
    "## Image visualisation\n",
    "---"
   ]
  },
  {
   "cell_type": "markdown",
   "metadata": {},
   "source": [
    "#### Display some images of the training dataset (one for each type), and check that the associated label makes sense"
   ]
  },
  {
   "cell_type": "code",
   "execution_count": 7,
   "metadata": {},
   "outputs": [
    {
     "name": "stdout",
     "output_type": "stream",
     "text": [
      "[6, 14, 0, 11, 5, 3, 34, 4, 8, 1]\n"
     ]
    }
   ],
   "source": [
    "#Find indices for first instance of each body part\n",
    "\n",
    "indices = []\n",
    "\n",
    "for i in range(10):\n",
    "\n",
    "    index = np.where(y_train == i)[0][0]\n",
    "\n",
    "    indices.append(index)\n",
    "\n",
    "print (indices)"
   ]
  },
  {
   "cell_type": "code",
   "execution_count": 8,
   "metadata": {},
   "outputs": [
    {
     "data": {
      "image/png": "[encoded data removed]",
      "text/plain": [
       "<Figure size 1500x1500 with 10 Axes>"
      ]
     },
     "metadata": {},
     "output_type": "display_data"
    }
   ],
   "source": [
    "#Plot one of each body part\n",
    "\n",
    "fig, ax = plt.subplots(1, 10, figsize = (15,15))\n",
    "\n",
    "for i in range(10):\n",
    "\n",
    "    part_index = indices[i]\n",
    "    ax[i].imshow(X_train[part_index], cmap = plt.cm.binary)\n",
    "    type = y_train[part_index].astype(int)\n",
    "    ax[i].set_xlabel(body_parts[type])\n",
    "    ax[i].set_xticks([])\n",
    "    ax[i].set_yticks([])\n",
    "\n",
    "fig.tight_layout();"
   ]
  },
  {
   "cell_type": "markdown",
   "metadata": {},
   "source": [
    "#### Display first 25 images of the training dataset"
   ]
  },
  {
   "cell_type": "code",
   "execution_count": 9,
   "metadata": {},
   "outputs": [
    {
     "data": {
      "image/png": "[encoded data removed]",
      "text/plain": [
       "<Figure size 1200x1200 with 25 Axes>"
      ]
     },
     "metadata": {},
     "output_type": "display_data"
    }
   ],
   "source": [
    "plt.figure(figsize = (12, 12))\n",
    "\n",
    "for n in range(25):\n",
    "\n",
    "    ax = plt.subplot(5, 5, n + 1)\n",
    "    plt.imshow(X_train[n], cmap = plt.cm.binary)\n",
    "\n",
    "    # chart formatting\n",
    "    type = y_train[n].astype(int)\n",
    "    plt.xlabel(body_parts[type])\n",
    "    plt.xticks([])\n",
    "    plt.yticks([])"
   ]
  },
  {
   "cell_type": "markdown",
   "metadata": {},
   "source": [
    "#### Investigate different kernels to an image of type face"
   ]
  },
  {
   "cell_type": "markdown",
   "metadata": {},
   "source": [
    "Picked the first face in the training dataset"
   ]
  },
  {
   "cell_type": "code",
   "execution_count": 10,
   "metadata": {},
   "outputs": [
    {
     "data": {
      "image/png": "[encoded data removed]",
      "text/plain": [
       "<Figure size 640x480 with 1 Axes>"
      ]
     },
     "metadata": {},
     "output_type": "display_data"
    }
   ],
   "source": [
    "myface = X_train[11]\n",
    "\n",
    "plt.imshow(myface, cmap = plt.cm.binary);"
   ]
  },
  {
   "cell_type": "markdown",
   "metadata": {},
   "source": [
    "Define 4 kernels as 3x3 np arrays and add to dict of kernels:\n",
    "- identity\n",
    "- edge_detection \n",
    "- sharpening\n",
    "- blurring"
   ]
  },
  {
   "cell_type": "code",
   "execution_count": 11,
   "metadata": {},
   "outputs": [],
   "source": [
    "k_identity = np.array([[[0],[0],[0]], [[0],[1],[0]], [[0],[0],[0]]])\n",
    "k_edge= np.array([[[-1],[-1],[-1]], [[-1],[8],[-1]], [[-1],[-1],[-1]]])\n",
    "k_sharp = np.array([[[0], [-1], [0]], [[-1],[4],[-1]], [[0],[-1],[0]]])\n",
    "k_blur = np.ones(shape = (3,3,1))/9\n",
    "kernels = {\"identity\":k_identity,\"edge\":k_edge,\"sharp\":k_sharp,\"blur\":k_blur}"
   ]
  },
  {
   "cell_type": "markdown",
   "metadata": {},
   "source": [
    "`run_kernel` function runs over the figure and applies the kernel to every non-edge pixel"
   ]
  },
  {
   "cell_type": "code",
   "execution_count": 12,
   "metadata": {},
   "outputs": [],
   "source": [
    "def run_kernel(fig,kernel):\n",
    "    \n",
    "    #empty array holding the output image\n",
    "    shape = (fig.shape[0]-2, fig.shape[1]-2, 1)\n",
    "    out = np.empty(shape = shape)\n",
    "    for i in range(fig.shape[0]-2):\n",
    "        for j in range(fig.shape[1]-2):\n",
    "            out[i][j] = np.sum(np.multiply(kernel,fig[i:i+kernel.shape[0],j:j+kernel.shape[1]]))\n",
    "                \n",
    "    return out\n",
    "    "
   ]
  },
  {
   "cell_type": "markdown",
   "metadata": {},
   "source": [
    "Check that the kernels are doing what you expect\n",
    "    \n",
    "norm=norm(0,1) to scale the image back to between 0 and 1 before plotting"
   ]
  },
  {
   "cell_type": "code",
   "execution_count": 13,
   "metadata": {},
   "outputs": [],
   "source": [
    "#Import the normiliser for the bitmap\n",
    "from matplotlib.colors import Normalize as norm"
   ]
  },
  {
   "cell_type": "code",
   "execution_count": 14,
   "metadata": {},
   "outputs": [
    {
     "data": {
      "image/png": "[encoded data removed]",
      "text/plain": [
       "<Figure size 1000x1000 with 4 Axes>"
      ]
     },
     "metadata": {},
     "output_type": "display_data"
    }
   ],
   "source": [
    "plt.figure(figsize=(10,10))\n",
    "#Loop over kernel\n",
    "for i,kernel in enumerate(kernels):\n",
    "    plt.subplot(1,4,i+1)\n",
    "    plt.xticks([])\n",
    "    plt.yticks([])\n",
    "    plt.grid(False)\n",
    "    #return transformed image and plot it\n",
    "    plt.imshow(run_kernel(myface,kernels[kernel]), cmap=plt.cm.binary,norm=norm(0,1))  \n",
    "    plt.xlabel(kernel)\n",
    "plt.show()\n",
    "\n"
   ]
  },
  {
   "cell_type": "markdown",
   "metadata": {},
   "source": [
    "## Image classification using a CNN\n",
    "---"
   ]
  },
  {
   "cell_type": "markdown",
   "metadata": {},
   "source": [
    "### Construct CNN using Keras functional API\n",
    "\n",
    "- Input matches shape of images (28, 28, 1)\n",
    "- Convolutional layer 32 filters, kernel size 3x3\n",
    "- Pooling layer 2x2\n",
    "- Another conv. layer with only 16 filters this time 3x3\n",
    "- Another pooling layer 2x2\n",
    "- Flatten into 10 output nodes (# of body parts)"
   ]
  },
  {
   "cell_type": "code",
   "execution_count": null,
   "metadata": {},
   "outputs": [],
   "source": [
    "myface.shape"
   ]
  },
  {
   "cell_type": "code",
   "execution_count": null,
   "metadata": {},
   "outputs": [],
   "source": [
    "#CNN structure\n",
    "\n",
    "visible = Input(shape = (28,28,1))\n",
    "conv1 = Conv2D(32, kernel_size = 3, activation = 'relu')(visible)\n",
    "pool1 = MaxPooling2D(pool_size = 2)(conv1)\n",
    "conv2 = Conv2D(16, kernel_size = 3, activation = 'relu')(pool1)\n",
    "pool2 = MaxPooling2D(pool_size = 2)(conv2)\n",
    "flat = Flatten()(pool2)\n",
    "output = Dense(10, activation = 'sigmoid')(flat)\n",
    "\n",
    "model = Model(inputs = visible, outputs = output)\n",
    "model.summary()"
   ]
  },
  {
   "cell_type": "markdown",
   "metadata": {},
   "source": [
    "### Compile and train the CNN image classifier \n"
   ]
  },
  {
   "cell_type": "code",
   "execution_count": null,
   "metadata": {},
   "outputs": [],
   "source": [
    "y_test[:10]"
   ]
  },
  {
   "cell_type": "code",
   "execution_count": null,
   "metadata": {},
   "outputs": [],
   "source": [
    "#SparseCat... loss method as integer targets\n",
    "\n",
    "model.compile(optimizer = 'adam',\n",
    "              loss = 'SparseCategoricalCrossentropy',\n",
    "              metrics = ['accuracy'])"
   ]
  },
  {
   "cell_type": "code",
   "execution_count": null,
   "metadata": {},
   "outputs": [],
   "source": [
    "#Fit the model\n",
    "\n",
    "history_model = model.fit(x = X_train, y = y_train, epochs = 20, batch_size = 32, validation_split = 0.2, shuffle = True)"
   ]
  },
  {
   "cell_type": "code",
   "execution_count": null,
   "metadata": {},
   "outputs": [],
   "source": [
    "#Plot loss and validation loss\n",
    "\n",
    "plt.plot(history_model.history['loss'], label = 'loss', color = 'blue')\n",
    "plt.plot(history_model.history['val_loss'], label = 'val_loss', color = 'green')\n",
    "\n",
    "plt.legend()\n",
    "plt.xlabel('No. Epochs')\n",
    "plt.ylabel('Loss');"
   ]
  },
  {
   "cell_type": "markdown",
   "metadata": {},
   "source": [
    "### Evaluate the classification performance on the testing dataset"
   ]
  },
  {
   "cell_type": "code",
   "execution_count": null,
   "metadata": {},
   "outputs": [],
   "source": [
    "print ('Train accuracy {:.1f}%'.format(model.evaluate(X_train, y_train)[1]*100))\n",
    "print ('Test accuracy {:.1f}%'.format(model.evaluate(X_test, y_test)[1]*100))"
   ]
  },
  {
   "cell_type": "markdown",
   "metadata": {},
   "source": [
    "Seems relatively good"
   ]
  },
  {
   "cell_type": "markdown",
   "metadata": {},
   "source": [
    "#### Make predictions and compare"
   ]
  },
  {
   "cell_type": "code",
   "execution_count": null,
   "metadata": {},
   "outputs": [],
   "source": [
    "#Predict which body parts\n",
    "predictions = model.predict(X_test)\n",
    "\n",
    "#Get the largest probability, i.e. which body part the model thinks the image is\n",
    "y_pred = np.argmax(predictions, axis = 1)"
   ]
  },
  {
   "cell_type": "code",
   "execution_count": null,
   "metadata": {},
   "outputs": [],
   "source": [
    "#Find where the model is guessing incorrectly\n",
    "\n",
    "comparison = (y_pred == y_test)\n",
    "wrong_predictions = np.where(comparison == False)[0]\n",
    "wrong_predictions"
   ]
  },
  {
   "cell_type": "code",
   "execution_count": null,
   "metadata": {},
   "outputs": [],
   "source": [
    "print (body_parts)"
   ]
  },
  {
   "cell_type": "code",
   "execution_count": null,
   "metadata": {},
   "outputs": [],
   "source": [
    "#Just double check some of the incorrect predictions\n",
    "\n",
    "print (predictions[12].argmax())\n",
    "print(y_test[12])\n",
    "plt.imshow(X_test[12], cmap = plt.cm.binary);"
   ]
  },
  {
   "cell_type": "markdown",
   "metadata": {},
   "source": [
    "#### Plot some of the incorrect predictions"
   ]
  },
  {
   "cell_type": "code",
   "execution_count": null,
   "metadata": {},
   "outputs": [],
   "source": [
    "plt.figure(figsize = (10, 10))\n",
    "\n",
    "for n in range(6):\n",
    "\n",
    "    ax = plt.subplot(1, 6, n + 1)\n",
    "    bad_prediction_index = wrong_predictions[n]\n",
    "    plt.imshow(X_test[bad_prediction_index], cmap = plt.cm.binary)\n",
    "\n",
    "    # chart formatting\n",
    "    type_actual = y_test[bad_prediction_index].astype(int)\n",
    "    type_predicted = y_pred[bad_prediction_index].astype(int)\n",
    "    \n",
    "    plt.xlabel('Actual: {}'.format(body_parts[type_actual]))\n",
    "    plt.title('Prediction: {}'.format(body_parts[type_predicted]), color = 'r')\n",
    "    plt.xticks([])\n",
    "    plt.yticks([])"
   ]
  },
  {
   "cell_type": "markdown",
   "metadata": {},
   "source": [
    "#### Plot the confusion matrix"
   ]
  },
  {
   "cell_type": "code",
   "execution_count": null,
   "metadata": {},
   "outputs": [],
   "source": [
    "cm = confusion_matrix(y_test, y_pred, normalize = 'true')\n",
    "\n",
    "# Use the following courmap in as the cmap parameter of sns.heatmap:\n",
    "colormap = sns.diverging_palette(220, 10, as_cmap=True)\n",
    "\n",
    "fig, ax = plt.subplots(figsize=(10, 10))\n",
    "# Generate Heat Map, allow annotations and place floats in map\n",
    "sns.heatmap(cm , cmap=colormap, annot=True, fmt=\".2f\")\n",
    "ax.set_xticklabels(\n",
    "    body_parts,\n",
    "    rotation=45,\n",
    "    horizontalalignment='right'\n",
    ");\n",
    "ax.set_xlabel('Predicted Label')\n",
    "ax.set_ylabel('True Label')\n",
    "ax.set_yticklabels(body_parts);\n",
    "plt.show()"
   ]
  },
  {
   "cell_type": "markdown",
   "metadata": {},
   "source": [
    "Makes sense that the model has a harder time distinguishing between a knee, leg, and foot. Arm confused with foot. Good at predicting faces, eyes, and mouths"
   ]
  },
  {
   "cell_type": "markdown",
   "metadata": {},
   "source": [
    "Run the first layer kernels over `myface`. Can see several copies of the image, all with varying transformations"
   ]
  },
  {
   "cell_type": "code",
   "execution_count": null,
   "metadata": {},
   "outputs": [],
   "source": [
    "plt.figure(figsize=(10,10))\n",
    "for i in range(8):\n",
    "    plt.subplot(8,2,2*(i)+1)\n",
    "\n",
    "    sns.heatmap(model.layers[1].get_weights()[0][:,:,:,i][:,:,0], cmap='Greys',annot=True,fmt=\".1f\")\n",
    "    plt.xticks([])\n",
    "    plt.yticks([])\n",
    "    plt.grid(False)\n",
    "    plt.subplot(8,2,2*i+2)\n",
    "    plt.xticks([])\n",
    "    plt.yticks([])\n",
    "    plt.grid(False)\n",
    "    plt.imshow(run_kernel(myface,model.layers[1].get_weights()[0][:,:,:,i]),cmap=plt.cm.binary,norm=norm(0,1))\n",
    "plt.show()\n"
   ]
  },
  {
   "cell_type": "code",
   "execution_count": null,
   "metadata": {},
   "outputs": [],
   "source": []
  },
  {
   "cell_type": "code",
   "execution_count": null,
   "metadata": {},
   "outputs": [],
   "source": []
  },
  {
   "cell_type": "markdown",
   "metadata": {},
   "source": [
    "### Predict a couple of sketches made with paint"
   ]
  },
  {
   "cell_type": "code",
   "execution_count": null,
   "metadata": {},
   "outputs": [],
   "source": [
    "import numpy as np\n",
    "import matplotlib.pyplot as plt\n",
    "import matplotlib.image as mpimg"
   ]
  },
  {
   "cell_type": "code",
   "execution_count": null,
   "metadata": {},
   "outputs": [],
   "source": [
    "def rgb2gray(rgb):\n",
    "\n",
    "    r, g, b = rgb[:,:,0], rgb[:,:,1], rgb[:,:,2]\n",
    "\n",
    "    grey = np.zeros(shape = (28,28,1))\n",
    "    grey[:, :, 0] = 0.2989 * r + 0.5870 * g + 0.1140 * b\n",
    "    grey[:, :, 0] = grey[:, :, 0] < 0.5\n",
    "\n",
    "    return grey"
   ]
  },
  {
   "cell_type": "code",
   "execution_count": null,
   "metadata": {},
   "outputs": [],
   "source": [
    "img_denis = mpimg.imread('denis_face.png')     \n",
    "grey_denis = rgb2gray(img_denis)    \n",
    "\n",
    "plt.imshow(grey_denis, cmap=plt.cm.binary)\n",
    "plt.show()"
   ]
  },
  {
   "cell_type": "code",
   "execution_count": null,
   "metadata": {},
   "outputs": [],
   "source": [
    "body_parts[model.predict(np.array([grey_denis])).argmax()]"
   ]
  },
  {
   "cell_type": "code",
   "execution_count": null,
   "metadata": {},
   "outputs": [],
   "source": []
  },
  {
   "cell_type": "code",
   "execution_count": null,
   "metadata": {},
   "outputs": [],
   "source": [
    "img_cristina = mpimg.imread('cristina_ear.png')\n",
    "grey_cristina = rgb2gray(img_cristina)    \n",
    "\n",
    "plt.imshow(grey_cristina, cmap=plt.cm.binary)\n",
    "plt.show()"
   ]
  },
  {
   "cell_type": "code",
   "execution_count": null,
   "metadata": {},
   "outputs": [],
   "source": [
    "body_parts[model.predict(np.array([grey_cristina])).argmax()]"
   ]
  },
  {
   "cell_type": "code",
   "execution_count": null,
   "metadata": {},
   "outputs": [],
   "source": []
  },
  {
   "cell_type": "code",
   "execution_count": null,
   "metadata": {},
   "outputs": [],
   "source": []
  },
  {
   "cell_type": "markdown",
   "metadata": {},
   "source": [
    "## Auto-encoders (3 marks)\n",
    "---\n",
    "In this section, we will construct and train an auto-encoder as an example of **unsupervised learning.** This type of model is made up of an **encoder** that maps an image of shape $(N,M,C)$ into a latent vector of shape $(L,)$; and a **decoder** which maps the latent vector into an image with the same shape as the original. The latent, or encoded, vector will typically be small in size compared to the input image (_i.e._ $L \\ll N \\times M \\times C$), meaning that it is an **information bottleneck.** The aim of the auto-encoder is therefore to learn the most efficient encoding of a class of images (here: quickdraw dataset) that allows the decoder to reconstruct the original as well as possible under the bottleneck constraint.\n",
    "\n",
    "We will break down this task into a few sub-tasks, to make it easier to get through."
   ]
  },
  {
   "cell_type": "markdown",
   "metadata": {},
   "source": [
    "#### 6. Construct the encoder (1 Marks)\n",
    "\n",
    "* Use the `Keras` functional API to construct the encoder model. \n",
    "* The shape of the input layer should match the shape of the prepared images .\n",
    "* Add some convolutional and pooling layers in a sensible configuration. \n",
    "    * Using a decreasing number of kernels for each convolutional layer (_e.g._ $16 \\to 8 \\to 4 \\to 2 \\to 1$) works quite well.\n",
    "    * For this task it is worthwhile to give some thought to padding: You want to have intermediate layers with shapes that are easy to reconstruct with the decoder. As a starting point, consider using `padding='same'` for your conv. layers.\n",
    "    * **See also the note below.**\n",
    "* **Flatten** the output of the last convolutional layer, and use this as the latent vector. \n",
    "    * For convenience, we choose to make the latent vector have values in the range [0,1], so add the appropriate activation function to the preceeding convolutional layer.\n",
    "* Display the model architecture using the `<model>.summary()` method, optionally also the `plot_model(<model>, show_shapes=True)` method.\n",
    "    * These methods are also very useful for debugging, when you are building your network. For instance, start with the simplest possible `Keras` model; plot the architecture using one of these methods; modify the model slightly; plot the architecture again to see the effect; _etc._\n",
    "    * Make sure that the output of the encoder is indeed a bottleneck, _i.e._ that the number of output nodes is significantly smaller than the number of pixels in the image. (_Hint: A latent vector could have size $49 \\ll 28 \\times 28 \\times 1 = 784$._)\n",
    "    \n",
    "**Note:** Choosing the architecture for an auto-encoder can be a bit tricky. The input images we use have shape $(28,28,1)$, and when we're pooling we typically downsample by a factor of $2$. If we use \"same\" padding, this means that we can go down to $(7,7,F)$ with no issues. However, if we downsample further (_e.g._ $7\\to 3$) it will be tricky for the decoder to reconstruct, since upsampling would result in $3\\to 6$. Therefore, to keep things simple, it may be best to not downsample further than $(7,7,F)$. However, you can still add _multiple convolutional layers in a row without pooling._"
   ]
  },
  {
   "cell_type": "code",
   "execution_count": 15,
   "metadata": {},
   "outputs": [
    {
     "name": "stdout",
     "output_type": "stream",
     "text": [
      "Model: \"encoder\"\n",
      "_________________________________________________________________\n",
      "Layer (type)                 Output Shape              Param #   \n",
      "=================================================================\n",
      "input (InputLayer)           [(None, 28, 28, 1)]       0         \n",
      "_________________________________________________________________\n",
      "conv2d (Conv2D)              (None, 28, 28, 16)        160       \n",
      "_________________________________________________________________\n",
      "max_pooling2d (MaxPooling2D) (None, 14, 14, 16)        0         \n",
      "_________________________________________________________________\n",
      "conv2d_1 (Conv2D)            (None, 14, 14, 8)         1160      \n",
      "_________________________________________________________________\n",
      "max_pooling2d_1 (MaxPooling2 (None, 7, 7, 8)           0         \n",
      "_________________________________________________________________\n",
      "conv2d_2 (Conv2D)            (None, 7, 7, 4)           292       \n",
      "_________________________________________________________________\n",
      "conv2d_3 (Conv2D)            (None, 7, 7, 2)           74        \n",
      "_________________________________________________________________\n",
      "conv2d_4 (Conv2D)            (None, 7, 7, 1)           19        \n",
      "_________________________________________________________________\n",
      "flatten (Flatten)            (None, 49)                0         \n",
      "=================================================================\n",
      "Total params: 1,705\n",
      "Trainable params: 1,705\n",
      "Non-trainable params: 0\n",
      "_________________________________________________________________\n"
     ]
    }
   ],
   "source": [
    "input_img = Input(shape = (28,28,1), name = 'input')\n",
    "enc_conv1 = Conv2D(16, kernel_size = 3, activation = 'relu', padding = 'same')(input_img)\n",
    "enc_pool1 = MaxPooling2D(pool_size = 2, padding = 'same')(enc_conv1)\n",
    "enc_conv2 = Conv2D(8, kernel_size = 3, activation = 'relu', padding = 'same')(enc_pool1)\n",
    "enc_pool2 = MaxPooling2D(pool_size = 2, padding = 'same')(enc_conv2)\n",
    "enc_conv3 = Conv2D(4, kernel_size = 3, activation = 'relu', padding = 'same')(enc_pool2)\n",
    "enc_conv4 = Conv2D(2, kernel_size = 3, activation = 'relu', padding = 'same')(enc_conv3)\n",
    "enc_conv5 = Conv2D(1, kernel_size = 3, activation = 'sigmoid', padding = 'same')(enc_conv4)\n",
    "enc_output = Flatten()(enc_conv5)\n",
    "\n",
    "encoder = Model(inputs = input_img, outputs = enc_output, name = 'encoder')\n",
    "encoder.summary()"
   ]
  },
  {
   "cell_type": "code",
   "execution_count": 16,
   "metadata": {},
   "outputs": [
    {
     "name": "stdout",
     "output_type": "stream",
     "text": [
      "Warning: Could not load \"C:\\Users\\decla\\anaconda3\\envs\\Daml\\Library\\bin\\gvplugin_pango.dll\" - It was found, so perhaps one of its dependents was not.  Try ldd.\n",
      "\n",
      "Warning: Could not load \"C:\\Users\\decla\\anaconda3\\envs\\Daml\\Library\\bin\\gvplugin_pango.dll\" - It was found, so perhaps one of its dependents was not.  Try ldd.\n",
      "Warning: Could not load \"C:\\Users\\decla\\anaconda3\\envs\\Daml\\Library\\bin\\gvplugin_pango.dll\" - It was found, so perhaps one of its dependents was not.  Try ldd.\n",
      "Warning: Could not load \"C:\\Users\\decla\\anaconda3\\envs\\Daml\\Library\\bin\\gvplugin_pango.dll\" - It was found, so perhaps one of its dependents was not.  Try ldd.\n",
      "Warning: Could not load \"C:\\Users\\decla\\anaconda3\\envs\\Daml\\Library\\bin\\gvplugin_pango.dll\" - It was found, so perhaps one of its dependents was not.  Try ldd.\n",
      "Warning: Could not load \"C:\\Users\\decla\\anaconda3\\envs\\Daml\\Library\\bin\\gvplugin_pango.dll\" - It was found, so perhaps one of its dependents was not.  Try ldd.\n",
      "\n"
     ]
    },
    {
     "data": {
      "image/png": "[encoded data removed]",
      "text/plain": [
       "<IPython.core.display.Image object>"
      ]
     },
     "execution_count": 16,
     "metadata": {},
     "output_type": "execute_result"
    }
   ],
   "source": [
    "plot_model(encoder, show_shapes = True)"
   ]
  },
  {
   "cell_type": "markdown",
   "metadata": {},
   "source": [
    "#### 7. Construct the decoder (1 Mark)\n",
    "\n",
    "* Use the `Keras` functional API to construct the decoder model. \n",
    "* **Reshape** the latent vector to have the shape of the last convolutional layer in the encoder.\n",
    "* The shape of the input layer should match the shape of the latent vector.\n",
    "* Add some convolutional and **upsampling** layers in a sensible configuration. \n",
    "    * You can use the same order of kernels (_e.g._ $16 \\to 8 \\to 4 \\to 2 \\to 1$) as in the encoder.\n",
    "    * Many of the notes and considerations mentioned for the encoder hold for the decoder as well.\n",
    "* The output of the decoder should have the same shape as the number images. Also, choose an output activation that is appropriate to the dataset.\n",
    "* Display the model architecture using the `<model>.summary()` method, optionally also the `plot_model(<model>, show_shapes=True)` method.\n",
    "    * As for the encoder, these methods can be very useful for debugging."
   ]
  },
  {
   "cell_type": "code",
   "execution_count": 17,
   "metadata": {},
   "outputs": [
    {
     "data": {
      "text/plain": [
       "(7, 7, 1)"
      ]
     },
     "execution_count": 17,
     "metadata": {},
     "output_type": "execute_result"
    }
   ],
   "source": [
    "encoding_shape = encoder.layers[-2].output_shape[1:]  # Get the shape right before final output, which can also just be read off the summary\n",
    "encoding_shape"
   ]
  },
  {
   "cell_type": "code",
   "execution_count": 18,
   "metadata": {},
   "outputs": [
    {
     "name": "stdout",
     "output_type": "stream",
     "text": [
      "Model: \"decoder\"\n",
      "_________________________________________________________________\n",
      "Layer (type)                 Output Shape              Param #   \n",
      "=================================================================\n",
      "input_1 (InputLayer)         [(None, 49)]              0         \n",
      "_________________________________________________________________\n",
      "reshape (Reshape)            (None, 7, 7, 1)           0         \n",
      "_________________________________________________________________\n",
      "conv2d_5 (Conv2D)            (None, 7, 7, 16)          160       \n",
      "_________________________________________________________________\n",
      "up_sampling2d (UpSampling2D) (None, 14, 14, 16)        0         \n",
      "_________________________________________________________________\n",
      "conv2d_6 (Conv2D)            (None, 14, 14, 8)         1160      \n",
      "_________________________________________________________________\n",
      "up_sampling2d_1 (UpSampling2 (None, 28, 28, 8)         0         \n",
      "_________________________________________________________________\n",
      "conv2d_7 (Conv2D)            (None, 28, 28, 4)         292       \n",
      "_________________________________________________________________\n",
      "conv2d_8 (Conv2D)            (None, 28, 28, 2)         74        \n",
      "_________________________________________________________________\n",
      "conv2d_9 (Conv2D)            (None, 28, 28, 1)         19        \n",
      "=================================================================\n",
      "Total params: 1,705\n",
      "Trainable params: 1,705\n",
      "Non-trainable params: 0\n",
      "_________________________________________________________________\n"
     ]
    }
   ],
   "source": [
    "dec_input = Input(shape = (np.prod(encoding_shape), ))\n",
    "dec_rshp = Reshape(encoding_shape)(dec_input)\n",
    "dec_conv1 = Conv2D(16, kernel_size = 3, activation = 'relu', padding = 'same')(dec_rshp)\n",
    "dec_up1 = UpSampling2D(size = 2)(dec_conv1)\n",
    "dec_conv2 = Conv2D(8, kernel_size = 3, activation = 'relu', padding = 'same')(dec_up1)\n",
    "dec_up2 = UpSampling2D(size = 2)(dec_conv2)\n",
    "dec_conv3 = Conv2D(4, kernel_size = 3, activation = 'relu', padding = 'same')(dec_up2)\n",
    "dec_conv4 = Conv2D(2, kernel_size = 3, activation = 'relu', padding = 'same')(dec_conv3)\n",
    "dec_output = Conv2D(1, kernel_size = 3, activation = 'sigmoid', padding = 'same')(dec_conv4)\n",
    "\n",
    "\n",
    "decoder = Model(inputs = dec_input, outputs = dec_output, name = 'decoder')\n",
    "decoder.summary()"
   ]
  },
  {
   "cell_type": "markdown",
   "metadata": {},
   "source": [
    "#### 8. Construct the auto-encoder (given, not marked)\n",
    "\n",
    "Connecting the encoder and decoder to form the auto-encoder is a slightly tricky use of the `Keras` functional API, so I'll just give that to you. Assuming you have given you encoder and decoder intuitive names, the following should do the trick:"
   ]
  },
  {
   "cell_type": "code",
   "execution_count": 19,
   "metadata": {
    "scrolled": true
   },
   "outputs": [
    {
     "name": "stdout",
     "output_type": "stream",
     "text": [
      "Model: \"ConvAE\"\n",
      "_________________________________________________________________\n",
      "Layer (type)                 Output Shape              Param #   \n",
      "=================================================================\n",
      "input (InputLayer)           [(None, 28, 28, 1)]       0         \n",
      "_________________________________________________________________\n",
      "encoder (Functional)         (None, 49)                1705      \n",
      "_________________________________________________________________\n",
      "decoder (Functional)         (None, 28, 28, 1)         1705      \n",
      "=================================================================\n",
      "Total params: 3,410\n",
      "Trainable params: 3,410\n",
      "Non-trainable params: 0\n",
      "_________________________________________________________________\n"
     ]
    }
   ],
   "source": [
    "i   = encoder.input\n",
    "cae = Model(i, decoder(encoder(i)), name='ConvAE')\n",
    "cae.summary()"
   ]
  },
  {
   "cell_type": "markdown",
   "metadata": {},
   "source": [
    "Try to make sure that you understand what is going on here: In the `Keras` functional API, layers and even entire models work like functions (thus the name). What we're doing above is passing an input image `i` through the encoder (resulting in a latent vector); passing the output of `encoder` as the input to `decoder` (resulting in a reconstructed image); and finally using the output of `decoder` as the output of the auto-encoder."
   ]
  },
  {
   "cell_type": "markdown",
   "metadata": {},
   "source": [
    "#### 9. Compile and train the auto-encoder (1 Mark)\n",
    "\n",
    "* Choose an appropriate loss function.\n",
    "* Train for ca. 10 epochs with some data held out for validation. Time for another coffee break!\n",
    "* Plot the loss curve(s).\n",
    "* Perform the auto-encoding for the testing images (use the `<model>.predict()` method) and display the first couple of _(a)_ original and _(b)_ auto-encoded images to see whether the outputs resembles the original images."
   ]
  },
  {
   "cell_type": "code",
   "execution_count": 23,
   "metadata": {},
   "outputs": [
    {
     "name": "stdout",
     "output_type": "stream",
     "text": [
      "Epoch 1/7\n",
      "  49/2000 [..............................] - ETA: 6:18 - loss: 0.1753 - accuracy: 0.7762"
     ]
    },
    {
     "ename": "KeyboardInterrupt",
     "evalue": "",
     "output_type": "error",
     "traceback": [
      "\u001b[1;31m---------------------------------------------------------------------------\u001b[0m",
      "\u001b[1;31mKeyboardInterrupt\u001b[0m                         Traceback (most recent call last)",
      "\u001b[1;32mc:\\Users\\decla\\OneDrive\\Desktop\\daml (Villa)\\DAML\\DAML\\SEMESTER1\\S1W6(CP3)\\checkpoint3(1).ipynb Cell 74\u001b[0m in \u001b[0;36m7\n\u001b[0;32m      <a href='vscode-notebook-cell:/c%3A/Users/decla/OneDrive/Desktop/daml%20%28Villa%29/DAML/DAML/SEMESTER1/S1W6%28CP3%29/checkpoint3%281%29.ipynb#Y123sZmlsZQ%3D%3D?line=0'>1</a>\u001b[0m \u001b[39m#binary_crossentropy as the input and output image should have pixel values between 0 and 1\u001b[39;00m\n\u001b[0;32m      <a href='vscode-notebook-cell:/c%3A/Users/decla/OneDrive/Desktop/daml%20%28Villa%29/DAML/DAML/SEMESTER1/S1W6%28CP3%29/checkpoint3%281%29.ipynb#Y123sZmlsZQ%3D%3D?line=2'>3</a>\u001b[0m cae\u001b[39m.\u001b[39mcompile(optimizer \u001b[39m=\u001b[39m \u001b[39m'\u001b[39m\u001b[39madam\u001b[39m\u001b[39m'\u001b[39m,\n\u001b[0;32m      <a href='vscode-notebook-cell:/c%3A/Users/decla/OneDrive/Desktop/daml%20%28Villa%29/DAML/DAML/SEMESTER1/S1W6%28CP3%29/checkpoint3%281%29.ipynb#Y123sZmlsZQ%3D%3D?line=3'>4</a>\u001b[0m               loss \u001b[39m=\u001b[39m \u001b[39m'\u001b[39m\u001b[39mbinary_crossentropy\u001b[39m\u001b[39m'\u001b[39m,\n\u001b[0;32m      <a href='vscode-notebook-cell:/c%3A/Users/decla/OneDrive/Desktop/daml%20%28Villa%29/DAML/DAML/SEMESTER1/S1W6%28CP3%29/checkpoint3%281%29.ipynb#Y123sZmlsZQ%3D%3D?line=4'>5</a>\u001b[0m               metrics \u001b[39m=\u001b[39m [\u001b[39m'\u001b[39m\u001b[39maccuracy\u001b[39m\u001b[39m'\u001b[39m])\n\u001b[1;32m----> <a href='vscode-notebook-cell:/c%3A/Users/decla/OneDrive/Desktop/daml%20%28Villa%29/DAML/DAML/SEMESTER1/S1W6%28CP3%29/checkpoint3%281%29.ipynb#Y123sZmlsZQ%3D%3D?line=6'>7</a>\u001b[0m history_cae \u001b[39m=\u001b[39m cae\u001b[39m.\u001b[39;49mfit(x \u001b[39m=\u001b[39;49m X_train, y \u001b[39m=\u001b[39;49m X_train, epochs \u001b[39m=\u001b[39;49m \u001b[39m7\u001b[39;49m, validation_split \u001b[39m=\u001b[39;49m \u001b[39m0.2\u001b[39;49m, batch_size \u001b[39m=\u001b[39;49m \u001b[39m64\u001b[39;49m)\n",
      "File \u001b[1;32mc:\\Users\\decla\\anaconda3\\envs\\Daml\\lib\\site-packages\\tensorflow\\python\\keras\\engine\\training.py:1189\u001b[0m, in \u001b[0;36mModel.fit\u001b[1;34m(self, x, y, batch_size, epochs, verbose, callbacks, validation_split, validation_data, shuffle, class_weight, sample_weight, initial_epoch, steps_per_epoch, validation_steps, validation_batch_size, validation_freq, max_queue_size, workers, use_multiprocessing)\u001b[0m\n\u001b[0;32m   1182\u001b[0m \u001b[39mwith\u001b[39;00m trace\u001b[39m.\u001b[39mTrace(\n\u001b[0;32m   1183\u001b[0m     \u001b[39m'\u001b[39m\u001b[39mtrain\u001b[39m\u001b[39m'\u001b[39m,\n\u001b[0;32m   1184\u001b[0m     epoch_num\u001b[39m=\u001b[39mepoch,\n\u001b[0;32m   1185\u001b[0m     step_num\u001b[39m=\u001b[39mstep,\n\u001b[0;32m   1186\u001b[0m     batch_size\u001b[39m=\u001b[39mbatch_size,\n\u001b[0;32m   1187\u001b[0m     _r\u001b[39m=\u001b[39m\u001b[39m1\u001b[39m):\n\u001b[0;32m   1188\u001b[0m   callbacks\u001b[39m.\u001b[39mon_train_batch_begin(step)\n\u001b[1;32m-> 1189\u001b[0m   tmp_logs \u001b[39m=\u001b[39m \u001b[39mself\u001b[39;49m\u001b[39m.\u001b[39;49mtrain_function(iterator)\n\u001b[0;32m   1190\u001b[0m   \u001b[39mif\u001b[39;00m data_handler\u001b[39m.\u001b[39mshould_sync:\n\u001b[0;32m   1191\u001b[0m     context\u001b[39m.\u001b[39masync_wait()\n",
      "File \u001b[1;32mc:\\Users\\decla\\anaconda3\\envs\\Daml\\lib\\site-packages\\tensorflow\\python\\util\\traceback_utils.py:150\u001b[0m, in \u001b[0;36mfilter_traceback.<locals>.error_handler\u001b[1;34m(*args, **kwargs)\u001b[0m\n\u001b[0;32m    148\u001b[0m filtered_tb \u001b[39m=\u001b[39m \u001b[39mNone\u001b[39;00m\n\u001b[0;32m    149\u001b[0m \u001b[39mtry\u001b[39;00m:\n\u001b[1;32m--> 150\u001b[0m   \u001b[39mreturn\u001b[39;00m fn(\u001b[39m*\u001b[39margs, \u001b[39m*\u001b[39m\u001b[39m*\u001b[39mkwargs)\n\u001b[0;32m    151\u001b[0m \u001b[39mexcept\u001b[39;00m \u001b[39mException\u001b[39;00m \u001b[39mas\u001b[39;00m e:\n\u001b[0;32m    152\u001b[0m   filtered_tb \u001b[39m=\u001b[39m _process_traceback_frames(e\u001b[39m.\u001b[39m__traceback__)\n",
      "File \u001b[1;32mc:\\Users\\decla\\anaconda3\\envs\\Daml\\lib\\site-packages\\tensorflow\\python\\eager\\def_function.py:915\u001b[0m, in \u001b[0;36mFunction.__call__\u001b[1;34m(self, *args, **kwds)\u001b[0m\n\u001b[0;32m    912\u001b[0m compiler \u001b[39m=\u001b[39m \u001b[39m\"\u001b[39m\u001b[39mxla\u001b[39m\u001b[39m\"\u001b[39m \u001b[39mif\u001b[39;00m \u001b[39mself\u001b[39m\u001b[39m.\u001b[39m_jit_compile \u001b[39melse\u001b[39;00m \u001b[39m\"\u001b[39m\u001b[39mnonXla\u001b[39m\u001b[39m\"\u001b[39m\n\u001b[0;32m    914\u001b[0m \u001b[39mwith\u001b[39;00m OptionalXlaContext(\u001b[39mself\u001b[39m\u001b[39m.\u001b[39m_jit_compile):\n\u001b[1;32m--> 915\u001b[0m   result \u001b[39m=\u001b[39m \u001b[39mself\u001b[39m\u001b[39m.\u001b[39m_call(\u001b[39m*\u001b[39margs, \u001b[39m*\u001b[39m\u001b[39m*\u001b[39mkwds)\n\u001b[0;32m    917\u001b[0m new_tracing_count \u001b[39m=\u001b[39m \u001b[39mself\u001b[39m\u001b[39m.\u001b[39mexperimental_get_tracing_count()\n\u001b[0;32m    918\u001b[0m without_tracing \u001b[39m=\u001b[39m (tracing_count \u001b[39m==\u001b[39m new_tracing_count)\n",
      "File \u001b[1;32mc:\\Users\\decla\\anaconda3\\envs\\Daml\\lib\\site-packages\\tensorflow\\python\\eager\\def_function.py:947\u001b[0m, in \u001b[0;36mFunction._call\u001b[1;34m(self, *args, **kwds)\u001b[0m\n\u001b[0;32m    944\u001b[0m   \u001b[39mself\u001b[39m\u001b[39m.\u001b[39m_lock\u001b[39m.\u001b[39mrelease()\n\u001b[0;32m    945\u001b[0m   \u001b[39m# In this case we have created variables on the first call, so we run the\u001b[39;00m\n\u001b[0;32m    946\u001b[0m   \u001b[39m# defunned version which is guaranteed to never create variables.\u001b[39;00m\n\u001b[1;32m--> 947\u001b[0m   \u001b[39mreturn\u001b[39;00m \u001b[39mself\u001b[39m\u001b[39m.\u001b[39m_stateless_fn(\u001b[39m*\u001b[39margs, \u001b[39m*\u001b[39m\u001b[39m*\u001b[39mkwds)  \u001b[39m# pylint: disable=not-callable\u001b[39;00m\n\u001b[0;32m    948\u001b[0m \u001b[39melif\u001b[39;00m \u001b[39mself\u001b[39m\u001b[39m.\u001b[39m_stateful_fn \u001b[39mis\u001b[39;00m \u001b[39mnot\u001b[39;00m \u001b[39mNone\u001b[39;00m:\n\u001b[0;32m    949\u001b[0m   \u001b[39m# Release the lock early so that multiple threads can perform the call\u001b[39;00m\n\u001b[0;32m    950\u001b[0m   \u001b[39m# in parallel.\u001b[39;00m\n\u001b[0;32m    951\u001b[0m   \u001b[39mself\u001b[39m\u001b[39m.\u001b[39m_lock\u001b[39m.\u001b[39mrelease()\n",
      "File \u001b[1;32mc:\\Users\\decla\\anaconda3\\envs\\Daml\\lib\\site-packages\\tensorflow\\python\\eager\\function.py:2453\u001b[0m, in \u001b[0;36mFunction.__call__\u001b[1;34m(self, *args, **kwargs)\u001b[0m\n\u001b[0;32m   2450\u001b[0m \u001b[39mwith\u001b[39;00m \u001b[39mself\u001b[39m\u001b[39m.\u001b[39m_lock:\n\u001b[0;32m   2451\u001b[0m   (graph_function,\n\u001b[0;32m   2452\u001b[0m    filtered_flat_args) \u001b[39m=\u001b[39m \u001b[39mself\u001b[39m\u001b[39m.\u001b[39m_maybe_define_function(args, kwargs)\n\u001b[1;32m-> 2453\u001b[0m \u001b[39mreturn\u001b[39;00m graph_function\u001b[39m.\u001b[39;49m_call_flat(\n\u001b[0;32m   2454\u001b[0m     filtered_flat_args, captured_inputs\u001b[39m=\u001b[39;49mgraph_function\u001b[39m.\u001b[39;49mcaptured_inputs)\n",
      "File \u001b[1;32mc:\\Users\\decla\\anaconda3\\envs\\Daml\\lib\\site-packages\\tensorflow\\python\\eager\\function.py:1860\u001b[0m, in \u001b[0;36mConcreteFunction._call_flat\u001b[1;34m(self, args, captured_inputs, cancellation_manager)\u001b[0m\n\u001b[0;32m   1856\u001b[0m possible_gradient_type \u001b[39m=\u001b[39m gradients_util\u001b[39m.\u001b[39mPossibleTapeGradientTypes(args)\n\u001b[0;32m   1857\u001b[0m \u001b[39mif\u001b[39;00m (possible_gradient_type \u001b[39m==\u001b[39m gradients_util\u001b[39m.\u001b[39mPOSSIBLE_GRADIENT_TYPES_NONE\n\u001b[0;32m   1858\u001b[0m     \u001b[39mand\u001b[39;00m executing_eagerly):\n\u001b[0;32m   1859\u001b[0m   \u001b[39m# No tape is watching; skip to running the function.\u001b[39;00m\n\u001b[1;32m-> 1860\u001b[0m   \u001b[39mreturn\u001b[39;00m \u001b[39mself\u001b[39m\u001b[39m.\u001b[39m_build_call_outputs(\u001b[39mself\u001b[39;49m\u001b[39m.\u001b[39;49m_inference_function\u001b[39m.\u001b[39;49mcall(\n\u001b[0;32m   1861\u001b[0m       ctx, args, cancellation_manager\u001b[39m=\u001b[39;49mcancellation_manager))\n\u001b[0;32m   1862\u001b[0m forward_backward \u001b[39m=\u001b[39m \u001b[39mself\u001b[39m\u001b[39m.\u001b[39m_select_forward_and_backward_functions(\n\u001b[0;32m   1863\u001b[0m     args,\n\u001b[0;32m   1864\u001b[0m     possible_gradient_type,\n\u001b[0;32m   1865\u001b[0m     executing_eagerly)\n\u001b[0;32m   1866\u001b[0m forward_function, args_with_tangents \u001b[39m=\u001b[39m forward_backward\u001b[39m.\u001b[39mforward()\n",
      "File \u001b[1;32mc:\\Users\\decla\\anaconda3\\envs\\Daml\\lib\\site-packages\\tensorflow\\python\\eager\\function.py:497\u001b[0m, in \u001b[0;36m_EagerDefinedFunction.call\u001b[1;34m(self, ctx, args, cancellation_manager)\u001b[0m\n\u001b[0;32m    495\u001b[0m \u001b[39mwith\u001b[39;00m _InterpolateFunctionError(\u001b[39mself\u001b[39m):\n\u001b[0;32m    496\u001b[0m   \u001b[39mif\u001b[39;00m cancellation_manager \u001b[39mis\u001b[39;00m \u001b[39mNone\u001b[39;00m:\n\u001b[1;32m--> 497\u001b[0m     outputs \u001b[39m=\u001b[39m execute\u001b[39m.\u001b[39;49mexecute(\n\u001b[0;32m    498\u001b[0m         \u001b[39mstr\u001b[39;49m(\u001b[39mself\u001b[39;49m\u001b[39m.\u001b[39;49msignature\u001b[39m.\u001b[39;49mname),\n\u001b[0;32m    499\u001b[0m         num_outputs\u001b[39m=\u001b[39;49m\u001b[39mself\u001b[39;49m\u001b[39m.\u001b[39;49m_num_outputs,\n\u001b[0;32m    500\u001b[0m         inputs\u001b[39m=\u001b[39;49margs,\n\u001b[0;32m    501\u001b[0m         attrs\u001b[39m=\u001b[39;49mattrs,\n\u001b[0;32m    502\u001b[0m         ctx\u001b[39m=\u001b[39;49mctx)\n\u001b[0;32m    503\u001b[0m   \u001b[39melse\u001b[39;00m:\n\u001b[0;32m    504\u001b[0m     outputs \u001b[39m=\u001b[39m execute\u001b[39m.\u001b[39mexecute_with_cancellation(\n\u001b[0;32m    505\u001b[0m         \u001b[39mstr\u001b[39m(\u001b[39mself\u001b[39m\u001b[39m.\u001b[39msignature\u001b[39m.\u001b[39mname),\n\u001b[0;32m    506\u001b[0m         num_outputs\u001b[39m=\u001b[39m\u001b[39mself\u001b[39m\u001b[39m.\u001b[39m_num_outputs,\n\u001b[1;32m   (...)\u001b[0m\n\u001b[0;32m    509\u001b[0m         ctx\u001b[39m=\u001b[39mctx,\n\u001b[0;32m    510\u001b[0m         cancellation_manager\u001b[39m=\u001b[39mcancellation_manager)\n",
      "File \u001b[1;32mc:\\Users\\decla\\anaconda3\\envs\\Daml\\lib\\site-packages\\tensorflow\\python\\eager\\execute.py:54\u001b[0m, in \u001b[0;36mquick_execute\u001b[1;34m(op_name, num_outputs, inputs, attrs, ctx, name)\u001b[0m\n\u001b[0;32m     52\u001b[0m \u001b[39mtry\u001b[39;00m:\n\u001b[0;32m     53\u001b[0m   ctx\u001b[39m.\u001b[39mensure_initialized()\n\u001b[1;32m---> 54\u001b[0m   tensors \u001b[39m=\u001b[39m pywrap_tfe\u001b[39m.\u001b[39;49mTFE_Py_Execute(ctx\u001b[39m.\u001b[39;49m_handle, device_name, op_name,\n\u001b[0;32m     55\u001b[0m                                       inputs, attrs, num_outputs)\n\u001b[0;32m     56\u001b[0m \u001b[39mexcept\u001b[39;00m core\u001b[39m.\u001b[39m_NotOkStatusException \u001b[39mas\u001b[39;00m e:\n\u001b[0;32m     57\u001b[0m   \u001b[39mif\u001b[39;00m name \u001b[39mis\u001b[39;00m \u001b[39mnot\u001b[39;00m \u001b[39mNone\u001b[39;00m:\n",
      "\u001b[1;31mKeyboardInterrupt\u001b[0m: "
     ]
    }
   ],
   "source": [
    "#binary_crossentropy as the input and output image should have pixel values between 0 and 1\n",
    "\n",
    "cae.compile(optimizer = 'adam',\n",
    "              loss = 'binary_crossentropy',\n",
    "              metrics = ['accuracy'])\n",
    "\n",
    "history_cae = cae.fit(x = X_train, y = X_train, epochs = 7, validation_split = 0.2, batch_size = 64)"
   ]
  },
  {
   "cell_type": "code",
   "execution_count": null,
   "metadata": {},
   "outputs": [],
   "source": [
    "#Plot loss and validation loss\n",
    "\n",
    "plt.plot(history_cae.history['loss'], label = 'loss', color = 'blue')\n",
    "plt.plot(history_cae.history['val_loss'], label = 'val_loss', color = 'green')\n",
    "\n",
    "plt.legend()\n",
    "plt.xlabel('No. Epochs')\n",
    "plt.ylabel('Loss');"
   ]
  },
  {
   "cell_type": "markdown",
   "metadata": {},
   "source": [
    "#### 10. Plot images in the laten space\n",
    "- Predict 10 images into the laten space using the encoder only.\n",
    "- Reshape the output to images and plot the laten space images. e.g. if your encoder outputs 49 features, make 7x7 image"
   ]
  },
  {
   "cell_type": "code",
   "execution_count": null,
   "metadata": {},
   "outputs": [],
   "source": []
  },
  {
   "cell_type": "code",
   "execution_count": null,
   "metadata": {},
   "outputs": [],
   "source": []
  },
  {
   "cell_type": "markdown",
   "metadata": {},
   "source": [
    "## Anomaly detection (2 marks)\n",
    "---\n",
    "\n",
    "We have introduced auto-encoders as a form of unsupervised learning, since we are not using the image labels during training. This means that auto-encoders are not ideal for image classification (at least not since we actually _have_ the labels), but they can be used for something else: anomaly detection. This is the task of identifying examples that the model considers \"anomalous\" with respect to the dataset used during training. \n",
    "\n",
    "First, we'll load in some \"anomalous\" data:"
   ]
  },
  {
   "cell_type": "code",
   "execution_count": null,
   "metadata": {},
   "outputs": [],
   "source": [
    "from sklearn.datasets import fetch_olivetti_faces\n",
    "faces = fetch_olivetti_faces(shuffle=True)['images']\n",
    "faces = faces[:,4:-4:2,4:-4:2,np.newaxis]"
   ]
  },
  {
   "cell_type": "markdown",
   "metadata": {},
   "source": [
    "#### 9. Inspect the face images and the auto-encoder result (1 mark)\n",
    "\n",
    "* How many samples does the \"outlier\" dataset (_i.e._ `faces`) contain?\n",
    "* What is the shape of the images and what is the range of pixel intensities? Does this conform with the preprocessed quickdraw images?\n",
    "* Display the first few face images.\n",
    "* Get the output/prediction of the auto-encoder from the previous section when applied to all of the faces.\n",
    "* Show the auto-encoded versions of the same faces you showed above. Discuss the results."
   ]
  },
  {
   "cell_type": "code",
   "execution_count": null,
   "metadata": {},
   "outputs": [],
   "source": []
  },
  {
   "cell_type": "markdown",
   "metadata": {},
   "source": [
    "_Indicative answers:_\n",
    "    \n",
    "* The face images have the same shape and pixel intensity range as the preprocessed quickdraw images, so they are valid inputs to the auto-encoder.\n",
    "* We can see that the auto-encoder transformed faces are _very_ unlike the input images. This is because the auto-encoder was trained to learn an efficient representation of hand-written digits which is not necessarily an efficient representation for other image domains, _e.g._ faces. This examples shows that this is clearly the case. From the point of view of the auto-encoder, images of faces are _anomalies_ in that they are fundamentally unlike the images on which it was trained, and therefore we shouldn't expect it to do a good job in encoding them."
   ]
  },
  {
   "cell_type": "markdown",
   "metadata": {},
   "source": [
    "#### 11. Perform anomaly detection (1 mark)\n",
    "Imagine now that we had a dataset comprised of mostly quickdraw images, but also a small subset of anomalies or \"outliers\"; here, in the form of black-and-white images of faceses, with the same shape as the quickdraw images."
   ]
  },
  {
   "cell_type": "code",
   "execution_count": null,
   "metadata": {},
   "outputs": [],
   "source": [
    "# Combined MNIST images and \"outliers\" in a mixed dataset\n",
    "mixed = np.vstack((X_test, faces))\n",
    "\n",
    "# Shuffle the mixed dataset so the \"outliers\" are randomly distributed\n",
    "indices = np.random.permutation(mixed.shape[0])\n",
    "mixed   = mixed[indices]"
   ]
  },
  {
   "cell_type": "markdown",
   "metadata": {},
   "source": [
    "The auto-encoder was trained to minimise the difference between the original and the auto-encoded image, so let's use binary cross-entropy (BCE) as our metric for the difference between an image and its auto-encoded version. The `binary_crossentropy` method provided below computes **pixel-wise BCE** for two (arrays of) images: the input and the output image."
   ]
  },
  {
   "cell_type": "code",
   "execution_count": null,
   "metadata": {},
   "outputs": [],
   "source": [
    "def binary_crossentropy (img_in, img_out):\n",
    "    assert img_in.shape == img_out.shape\n",
    "    eps = np.finfo(float).eps\n",
    "    img_out = np.clip(img_out, eps, 1. - eps)\n",
    "    return - (img_in * np.log(img_out) + (1 - img_in) * np.log(1 - img_out))"
   ]
  },
  {
   "cell_type": "markdown",
   "metadata": {},
   "source": [
    "---\n",
    "* Define a new method called `difference` which takes as input two arrays of images (`img_in` and `img_out`; similar to the `binary_crossentropy`); computes the **average BCE value for each image,** or row; and returns a vector of these difference measures.\n",
    "* For each image, or row, in `mixed`, compute the difference score of the auto-encoded image wrt. the original image. This is a measure of how \"inlier\"- or \"outlier\"-like an image is.\n",
    "* Make a histogram of these scores, and see if you can identify any structure. It might be useful to use a logarithmic x-axis (see `plt.xscale`) along with logarithmic x-axis bins (see `np.logspace`).\n",
    "* Show the 9 least and the 9 most outlying images, according to this difference score. Discuss the results."
   ]
  },
  {
   "cell_type": "code",
   "execution_count": null,
   "metadata": {},
   "outputs": [],
   "source": [
    "\n"
   ]
  }
 ],
 "metadata": {
  "kernelspec": {
   "display_name": "Python 3 (ipykernel)",
   "language": "python",
   "name": "python3"
  },
  "language_info": {
   "codemirror_mode": {
    "name": "ipython",
    "version": 3
   },
   "file_extension": ".py",
   "mimetype": "text/x-python",
   "name": "python",
   "nbconvert_exporter": "python",
   "pygments_lexer": "ipython3",
   "version": "3.9.13"
  }
 },
 "nbformat": 4,
 "nbformat_minor": 2
}
